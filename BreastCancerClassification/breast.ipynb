{
 "cells": [
  {
   "cell_type": "code",
   "execution_count": 5,
   "id": "23a9fe95",
   "metadata": {},
   "outputs": [
    {
     "name": "stdout",
     "output_type": "stream",
     "text": [
      "Header: ['age', 'menopause', 'tumer-size', 'inv-nodes', 'node-caps', 'deg-malig', 'breast', 'breast-quad', 'irradiate', 'class']\n",
      "First 5 rows of data:\n",
      "['40-49', 'premeno', '15-19', '0-2', 'yes', '3', 'right', 'left_up', 'no', 'recurrence-events']\n",
      "['50-59', 'ge40', '15-19', '0-2', 'no', '1', 'right', 'central', 'no', 'no-recurrence-events']\n",
      "['50-59', 'ge40', '35-39', '0-2', 'no', '2', 'left', 'left_low', 'no', 'recurrence-events']\n",
      "['40-49', 'premeno', '35-39', '0-2', 'yes', '3', 'right', 'left_low', 'yes', 'no-recurrence-events']\n",
      "['40-49', 'premeno', '30-34', '3-5', 'yes', '2', 'left', 'right_up', 'no', 'recurrence-events']\n",
      "Cleaned data saved to 'breast-cancer-data-cleaned.csv'\n"
     ]
    }
   ],
   "source": [
    "import pandas as pd\n",
    "\n",
    "# Read and clean data\n",
    "with open('breast-cancer-data.csv', 'r') as file:\n",
    "    header = [col.strip().replace(\"'\", \"\") for col in file.readline().strip().split(',')]\n",
    "    data = [\n",
    "        [cell.strip().replace(\"'\", \"\") for cell in line.strip().split(',')]\n",
    "        for line in file.readlines()\n",
    "    ]\n",
    "\n",
    "# Show sample\n",
    "print(\"Header:\", header)\n",
    "print(\"First 5 rows of data:\")\n",
    "for row in data[:5]:\n",
    "    print(row)\n",
    "\n",
    "# Convert to DataFrame\n",
    "df = pd.DataFrame(data, columns=header)\n",
    "\n",
    "# Save to cleaned CSV\n",
    "df.to_csv('breast-cancer-data-cleaned.csv', index=False)\n",
    "print(\"Cleaned data saved to 'breast-cancer-data-cleaned.csv'\")\n"
   ]
  }
 ],
 "metadata": {
  "kernelspec": {
   "display_name": "env",
   "language": "python",
   "name": "python3"
  },
  "language_info": {
   "codemirror_mode": {
    "name": "ipython",
    "version": 3
   },
   "file_extension": ".py",
   "mimetype": "text/x-python",
   "name": "python",
   "nbconvert_exporter": "python",
   "pygments_lexer": "ipython3",
   "version": "3.12.3"
  }
 },
 "nbformat": 4,
 "nbformat_minor": 5
}
